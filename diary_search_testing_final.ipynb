{
 "cells": [
  {
   "cell_type": "markdown",
   "metadata": {},
   "source": [
    "# Финальный проект: корпус дневников (часть 2)\n",
    "### Авторы проекта: Вероника Ганеева, Алла Горбунова, Елизавета Клыкова (БКЛ181)\n",
    "\n",
    "## Шаг 3: поиск в корпусе"
   ]
  },
  {
   "cell_type": "code",
   "execution_count": 1,
   "metadata": {},
   "outputs": [],
   "source": [
    "# %load_ext pycodestyle_magic\n",
    "# %pycodestyle_on"
   ]
  },
  {
   "cell_type": "code",
   "execution_count": 2,
   "metadata": {},
   "outputs": [],
   "source": [
    "import re\n",
    "import ast\n",
    "import pandas as pd\n",
    "from pymystem3 import Mystem\n",
    "from pprint import pprint\n",
    "from nltk.tokenize import sent_tokenize\n",
    "from pymorphy2 import MorphAnalyzer\n",
    "pm = MorphAnalyzer()"
   ]
  },
  {
   "cell_type": "markdown",
   "metadata": {},
   "source": [
    "Считываем корпус из файла, преобразуем в pandas dataframe, записываем колонки, данные которых понадобятся при выдаче, в переменные. Строки с разборами преобразуем в списки с помощью модуля ast."
   ]
  },
  {
   "cell_type": "markdown",
   "metadata": {},
   "source": [
    "Поскольку каждому тексту соответствует ровно одна строка датафрейма, возможно обращение к элементам этого текста по индексам списков."
   ]
  },
  {
   "cell_type": "code",
   "execution_count": 3,
   "metadata": {
    "scrolled": true
   },
   "outputs": [],
   "source": [
    "def open_corpus(filename):\n",
    "    corpus = pd.read_csv(filename, sep='\\t')\n",
    "    links = list(corpus['link'])\n",
    "    post_ids = list(corpus['post_id'])\n",
    "    authors = list(corpus['author'])\n",
    "    titles = list(corpus['title'])\n",
    "    texts = list(corpus['text'])\n",
    "    sentences = [ast.literal_eval(item)\n",
    "                 for item in corpus['sentences'].to_list()]\n",
    "    parsed_texts = [ast.literal_eval(item)\n",
    "                    for item in corpus['parsed_text'].to_list()]\n",
    "    sent_texts = [ast.literal_eval(item)\n",
    "                  for item in corpus['sent_text'].to_list()]\n",
    "    corpus_volume = 0\n",
    "    for text in parsed_texts:\n",
    "        corpus_volume += len(text)\n",
    "    volume = 'текстов - {}, словоформ - {}.'.format(len(texts), corpus_volume)\n",
    "    welcome = '''Добро пожаловать в корпус дневников! \\\n",
    "На сегодняшний день в нем содержится: '''\n",
    "    welcome_note = welcome + volume\n",
    "    return links, post_ids, authors, titles, texts, sentences, parsed_texts, sent_texts, welcome_note"
   ]
  },
  {
   "cell_type": "code",
   "execution_count": 4,
   "metadata": {
    "scrolled": true
   },
   "outputs": [],
   "source": [
    "links, post_ids, authors, titles, texts, sentences, parsed_texts, sent_texts, welcome_note = open_corpus('corpus.tsv')"
   ]
  },
  {
   "cell_type": "markdown",
   "metadata": {},
   "source": [
    "Здесь и далее длинные строки оставлены там, где не получилось их перенести без поломки программы."
   ]
  },
  {
   "cell_type": "markdown",
   "metadata": {},
   "source": [
    "### Обработка запроса"
   ]
  },
  {
   "cell_type": "code",
   "execution_count": 5,
   "metadata": {},
   "outputs": [],
   "source": [
    "TAGS = ['NOUN', 'ADJ', 'VERB', 'ADV', 'PREP', 'PRCL', 'PRON', 'ANUM', 'CONJ', 'INTJ', 'NUM', 'COM']"
   ]
  },
  {
   "cell_type": "code",
   "execution_count": 6,
   "metadata": {},
   "outputs": [],
   "source": [
    "# возвращает все возможные леммы для формы\n",
    "def get_lemmas(word):\n",
    "    variants = pm.parse(word)\n",
    "    lemmas = list(set(map(lambda x: x.normal_form, variants)))\n",
    "    return lemmas"
   ]
  },
  {
   "cell_type": "code",
   "execution_count": 7,
   "metadata": {},
   "outputs": [],
   "source": [
    "# возвращает параметры одного слова\n",
    "def get_params(q_word):\n",
    "    params = {'form' : None,\n",
    "              'pos' : None,\n",
    "              'lemma' : None}\n",
    "    if '\"' in q_word:\n",
    "        params['form'] = q_word.strip('\"')\n",
    "    elif q_word.upper() in TAGS:\n",
    "        params['pos'] = q_word.upper()\n",
    "    elif '+' in q_word:\n",
    "        parts = q_word.split('+')\n",
    "        params['lemma'] = [parts[0].lower()]\n",
    "        params['pos'] = parts[1].upper()\n",
    "    else:\n",
    "        params['lemma'] = get_lemmas(q_word) \n",
    "    return params"
   ]
  },
  {
   "cell_type": "code",
   "execution_count": 8,
   "metadata": {},
   "outputs": [],
   "source": [
    "# проверка запроса на соответствие требованиям\n",
    "def correct(query):\n",
    "    #if len(query.split()) > 7:\n",
    "    #    raise Exception('Ваш запрос содержит больше семи слов.')\n",
    "    if '\\'' in query:\n",
    "        raise Exception('Пожалуйста, используйте двойные кавычки.')\n",
    "    if len(query) < 1 or query == ' ':\n",
    "        raise Exception('Вы ввели пустой запрос.')\n",
    "    if re.findall('[^а-яёА-ЯЁa-zA-Z+ \"-]', query) != []:\n",
    "        raise Exception('Вы используете недопустимые символы.')\n",
    "    for item in re.findall('[a-zA-Z]+', query):\n",
    "        if item.upper() not in TAGS:\n",
    "            raise Exception('Недопустимый тег: %s' % item)"
   ]
  },
  {
   "cell_type": "markdown",
   "metadata": {},
   "source": [
    "Итоговая функция обработки запроса:"
   ]
  },
  {
   "cell_type": "code",
   "execution_count": 9,
   "metadata": {},
   "outputs": [],
   "source": [
    "def parse_query(query):\n",
    "    correct(query)\n",
    "    split_query = query.split()  # узнаем кол-во слов\n",
    "    if len(split_query) == 1:\n",
    "        params = [get_params(split_query[0])]\n",
    "    else:\n",
    "        params = []\n",
    "        for q in split_query:\n",
    "            params.append(get_params(q))\n",
    "    return params"
   ]
  },
  {
   "cell_type": "markdown",
   "metadata": {},
   "source": [
    "Функция поиска:"
   ]
  },
  {
   "cell_type": "code",
   "execution_count": 10,
   "metadata": {},
   "outputs": [],
   "source": [
    "def search_corpus(list_of_search, sent_texts=sent_texts):\n",
    "    find_all = ['begin']\n",
    "    for search_word in list_of_search:\n",
    "        if find_all == ['begin']:\n",
    "            for num_text, text in enumerate(sent_texts):\n",
    "                for num_sent, sent in enumerate(text):\n",
    "                    for num_word, word in enumerate(sent):\n",
    "                        if (search_word['form'] is None or search_word['form'] == word[0]) and (search_word['lemma'] is None or word[1] in search_word['lemma']) and (search_word['pos'] is None or search_word['pos'] == word[2]):\n",
    "                            find_all\n",
    "                            find_all.append([num_text, num_sent, num_word])\n",
    "            find_all.remove('begin')\n",
    "        elif find_all != []:\n",
    "            new_findall = []\n",
    "            for el in find_all:\n",
    "                if len(sent_texts[el[0]][el[1]]) > el[2] + 1:\n",
    "                    word_from_sent = sent_texts[el[0]][el[1]][el[2] + 1]\n",
    "                    if (search_word['form'] is None or search_word['form'] == word_from_sent[0]) and (search_word['lemma'] is None or word_from_sent[1] in search_word['lemma']) and (search_word['pos'] is None or search_word['pos'] == word_from_sent[2]):\n",
    "                        new_findall.append([el[0], el[1], el[2] + 1])\n",
    "            find_all = new_findall\n",
    "    return find_all"
   ]
  },
  {
   "cell_type": "markdown",
   "metadata": {},
   "source": [
    "Собираем функции, добавляем получение метаданных:"
   ]
  },
  {
   "cell_type": "code",
   "execution_count": 11,
   "metadata": {},
   "outputs": [],
   "source": [
    "def beautiful_answer(findall, links=links, post_ids=post_ids, authors=authors, titles=titles,  sentences=sentences, sent_texts=sent_texts):\n",
    "    if findall == []:\n",
    "        print('В корпусе не нашлось такого сочетания.')\n",
    "    else:\n",
    "        all_results = []\n",
    "        for el in findall:\n",
    "            list_to_print = {}\n",
    "            list_to_print['Предложение'] = sentences[el[0]][el[1]]\n",
    "            list_to_print['Автор'] = authors[el[0]]\n",
    "            if str(titles[el[0]]) != 'nan':\n",
    "                list_to_print['Название'] = titles[el[0]]\n",
    "            else:\n",
    "                list_to_print['Название'] = 'Без названия'\n",
    "            list_to_print['id текста'] = post_ids[el[0]]\n",
    "            list_to_print['Ссылка'] = links[el[0]]\n",
    "            all_results.append(list_to_print)\n",
    "        all_results = pd.DataFrame(all_results)\n",
    "        return all_results"
   ]
  },
  {
   "cell_type": "markdown",
   "metadata": {},
   "source": [
    "## Поиск в корпусе\n",
    "### Инструкция для пользователя\n",
    "*Для работы с корпусом запустите программу с помощью Restart & Run All, затем введите запрос в открывшееся в последней ячейке поле и нажмите Enter.*\n",
    "\n",
    "Пожалуйста, используйте только частеречные теги из данного списка:\n",
    "\n",
    "*NOUN - существительное  \n",
    "ADJ - прилагательное  \n",
    "VERB - глагол  \n",
    "ADV - наречие  \n",
    "NUM - числительное  \n",
    "ANUM - числительное-прилагательное  \n",
    "PRON - местоимение   \n",
    "CONJ - союз  \n",
    "PREP - предлог  \n",
    "PRCL - частица  \n",
    "INTJ - междометие  \n",
    "COM - часть сложного слова*  \n",
    "\n",
    "1. Точную форму слова нужно указывать в двойных кавычках (вот таких: \" \").\n",
    "2. B запросах вида *Х+тег* Х должен быть начальной формой слова.\n",
    "3. Поиск точной формы чувствителен к регистру.\n",
    "4. Частеречные теги не чувствительны к регистру.\n",
    "5. Если Вы хотите найти несколько слов в точной форме, пожалуйста, берите в кавычки отдельно каждое слово.\n",
    "6. Не используйте в поисковом запросе цифры и символы, кроме знака +."
   ]
  },
  {
   "cell_type": "code",
   "execution_count": 12,
   "metadata": {},
   "outputs": [
    {
     "name": "stdout",
     "output_type": "stream",
     "text": [
      "Добро пожаловать в корпус дневников! На сегодняшний день в нем содержится: текстов - 133, словоформ - 32705.\n"
     ]
    }
   ],
   "source": [
    "print(welcome_note)"
   ]
  },
  {
   "cell_type": "code",
   "execution_count": 14,
   "metadata": {
    "scrolled": true
   },
   "outputs": [
    {
     "name": "stdout",
     "output_type": "stream",
     "text": [
      "печь+noun\n"
     ]
    },
    {
     "data": {
      "text/html": [
       "<div>\n",
       "<style scoped>\n",
       "    .dataframe tbody tr th:only-of-type {\n",
       "        vertical-align: middle;\n",
       "    }\n",
       "\n",
       "    .dataframe tbody tr th {\n",
       "        vertical-align: top;\n",
       "    }\n",
       "\n",
       "    .dataframe thead th {\n",
       "        text-align: right;\n",
       "    }\n",
       "</style>\n",
       "<table border=\"1\" class=\"dataframe\">\n",
       "  <thead>\n",
       "    <tr style=\"text-align: right;\">\n",
       "      <th></th>\n",
       "      <th>Предложение</th>\n",
       "      <th>Автор</th>\n",
       "      <th>Название</th>\n",
       "      <th>id текста</th>\n",
       "      <th>Ссылка</th>\n",
       "    </tr>\n",
       "  </thead>\n",
       "  <tbody>\n",
       "    <tr>\n",
       "      <td>0</td>\n",
       "      <td>Мёртвой нищей логовище без печей.</td>\n",
       "      <td>Tay-Li</td>\n",
       "      <td>Старая усадьба</td>\n",
       "      <td>220050375</td>\n",
       "      <td>https://tay-li.diary.ru/p220050375_staraya-usadba.htm</td>\n",
       "    </tr>\n",
       "  </tbody>\n",
       "</table>\n",
       "</div>"
      ],
      "text/plain": [
       "                         Предложение   Автор        Название  id текста  \\\n",
       "0  Мёртвой нищей логовище без печей.  Tay-Li  Старая усадьба  220050375   \n",
       "\n",
       "                                                  Ссылка  \n",
       "0  https://tay-li.diary.ru/p220050375_staraya-usadba.htm  "
      ]
     },
     "execution_count": 14,
     "metadata": {},
     "output_type": "execute_result"
    }
   ],
   "source": [
    "list_of_search = parse_query(input())\n",
    "df_result = beautiful_answer(search_corpus(list_of_search))\n",
    "pd.set_option('display.max_colwidth', -1)\n",
    "df_result"
   ]
  }
 ],
 "metadata": {
  "kernelspec": {
   "display_name": "Python 3",
   "language": "python",
   "name": "python3"
  },
  "language_info": {
   "codemirror_mode": {
    "name": "ipython",
    "version": 3
   },
   "file_extension": ".py",
   "mimetype": "text/x-python",
   "name": "python",
   "nbconvert_exporter": "python",
   "pygments_lexer": "ipython3",
   "version": "3.7.3"
  }
 },
 "nbformat": 4,
 "nbformat_minor": 2
}
