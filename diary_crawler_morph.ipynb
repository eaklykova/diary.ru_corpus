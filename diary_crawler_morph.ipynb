{
 "cells": [
  {
   "cell_type": "markdown",
   "metadata": {},
   "source": [
    "# Финальный проект: корпус дневников\n",
    "### Авторы проекта: Вероника Ганеева, Алла Горбунова, Елизавета Клыкова (БКЛ181)\n",
    "## Описание проекта\n",
    "Данные для корпуса собраны с сайта diary.ru c помощью краулера и записаны в pandas dataframe. Морфологическая обработка выполнена с помощью Mystem.\n",
    "\n",
    "Для корректной работы программы в одной папке с ней должны находиться mystem.exe и chromedriver.exe совместимой с вашим браузером версии (скачать можно вот тут: https://sites.google.com/a/chromium.org/chromedriver/downloads).\n",
    "\n",
    "**ВАЖНО: не запускать через Restart & Run All, сначала первые 4 ячейки, пройти авторизацию и дальше запускать остаток программы!!!**\n",
    "\n",
    "## Шаг 1: сбор данных"
   ]
  },
  {
   "cell_type": "code",
   "execution_count": 1,
   "metadata": {},
   "outputs": [],
   "source": [
    "%load_ext pycodestyle_magic\n",
    "%pycodestyle_on"
   ]
  },
  {
   "cell_type": "code",
   "execution_count": 2,
   "metadata": {},
   "outputs": [],
   "source": [
    "import os\n",
    "import re\n",
    "import ast\n",
    "import json\n",
    "import pandas as pd\n",
    "from tqdm.auto import tqdm\n",
    "from nltk import sent_tokenize\n",
    "from selenium import webdriver\n",
    "from selenium.webdriver.common.by import By\n",
    "from selenium.webdriver.common.keys import Keys\n",
    "from selenium.webdriver.support.ui import Select\n",
    "from selenium.webdriver.support.ui import WebDriverWait\n",
    "from selenium.common.exceptions import NoSuchElementException"
   ]
  },
  {
   "cell_type": "code",
   "execution_count": 3,
   "metadata": {},
   "outputs": [],
   "source": [
    "driver = webdriver.Chrome('chromedriver.exe')"
   ]
  },
  {
   "cell_type": "markdown",
   "metadata": {},
   "source": [
    "На сайте требуется авторизация при первом входе (я делаю это вручную, т.к. не хочу распространять свои логин и пароль). Запрашиваем первую страницу, на открывшейся странице \"Ошибка доступа\" вводим логин и пароль, нажимаем \"Войти\"."
   ]
  },
  {
   "cell_type": "code",
   "execution_count": 4,
   "metadata": {},
   "outputs": [],
   "source": [
    "page = driver.get(f'https://www.diary.ru/?last_post&from=0')"
   ]
  },
  {
   "cell_type": "markdown",
   "metadata": {},
   "source": [
    "Теперь с помощью функции получаем ссылки на страницы записей, исключая те, что заканчиваются на \"closed.htm\": они ведут на страницы с закрытым доступом, куда попасть могут только подписанные на дневник пользователи."
   ]
  },
  {
   "cell_type": "code",
   "execution_count": 5,
   "metadata": {},
   "outputs": [],
   "source": [
    "def get_links(page_num):\n",
    "    page_number = 0\n",
    "    links = []\n",
    "    for i in tqdm(range(page_num)):\n",
    "        page = driver.get(\n",
    "            f'https://www.diary.ru/?last_post&from={page_number}')\n",
    "        links_web = driver.find_elements_by_xpath(\"//div[@class='left']/a\")\n",
    "        for wlink in links_web:\n",
    "            link = wlink.get_attribute('href')\n",
    "            if link:\n",
    "                if not link.endswith('_closed.htm'):\n",
    "                    links.append(link)\n",
    "        page_number += 20\n",
    "    return links"
   ]
  },
  {
   "cell_type": "code",
   "execution_count": 6,
   "metadata": {},
   "outputs": [
    {
     "data": {
      "application/vnd.jupyter.widget-view+json": {
       "model_id": "7837ac221b6945c4ae0492facea320dd",
       "version_major": 2,
       "version_minor": 0
      },
      "text/plain": [
       "HBox(children=(HTML(value=''), FloatProgress(value=0.0, max=30.0), HTML(value='')))"
      ]
     },
     "metadata": {},
     "output_type": "display_data"
    },
    {
     "name": "stdout",
     "output_type": "stream",
     "text": [
      "\n"
     ]
    },
    {
     "data": {
      "text/plain": [
       "421"
      ]
     },
     "execution_count": 6,
     "metadata": {},
     "output_type": "execute_result"
    }
   ],
   "source": [
    "links = get_links(30)\n",
    "len(links)"
   ]
  },
  {
   "cell_type": "markdown",
   "metadata": {},
   "source": [
    "Функция ниже получает информацию о постах и тексты по полученным выше ссылкам. Я использую try - except NoSuchElementException: это внутренняя ошибка Selenium'а. Избежать такой проверки никак нельзя, поскольку посты имеют разный формат.\n",
    "\n",
    "Информация о каждом тексте записывается в список в таком порядке: ссылка, id поста, автор, название, полный текст. Если какого-то из элементов нет, на его место записывается пустая строка (это возможно для названия - не всегда пост имеет заголовок). Таким образом, все списки имеют равную длину и ошибки при обращении по индексу исключены.\n",
    "\n",
    "Готовый список с информацией о тексте записывается в общий список all_texts, который и возвращает функция. Кроме того, добавлена простая проверка длины текста: текст разбивается по пробелоподобным символам, затем проверяется, содержит ли он хотя бы 100 слов, и только при положительном ответе данные поста записываются в общий список."
   ]
  },
  {
   "cell_type": "code",
   "execution_count": 7,
   "metadata": {},
   "outputs": [],
   "source": [
    "def get_texts(links):\n",
    "    all_texts = []\n",
    "    for link in tqdm(links):\n",
    "        text_info = []\n",
    "        text_info.append(link)\n",
    "        page = driver.get(link)\n",
    "        post_id = driver.find_element_by_class_name(\n",
    "            'singlePost').get_attribute('id').strip('post')\n",
    "        text_info.append(post_id)\n",
    "        try:\n",
    "            author = driver.find_element_by_class_name('authorName').text\n",
    "        except NoSuchElementException:\n",
    "            author = 'Unknown'\n",
    "        text_info.append(author)\n",
    "        try:\n",
    "            title = driver.find_element_by_xpath(\n",
    "                \"//div[@class='postTitle header']/h1\").text\n",
    "        except NoSuchElementException:\n",
    "            title = driver.find_element_by_xpath(\"//a[@class='title']\").text\n",
    "        text_info.append(title)\n",
    "        try:\n",
    "            text = driver.find_element_by_class_name('postInner').text\n",
    "        except NoSuchElementException:\n",
    "            text = driver.find_element_by_xpath(\n",
    "                \"//div[@class='post-inner']\").text\n",
    "        text_info.append(text)\n",
    "        if text:\n",
    "            if len(text.split()) >= 100:\n",
    "                all_texts.append(text_info)\n",
    "    return all_texts"
   ]
  },
  {
   "cell_type": "code",
   "execution_count": 8,
   "metadata": {},
   "outputs": [
    {
     "data": {
      "application/vnd.jupyter.widget-view+json": {
       "model_id": "28078f02afd449799930944f221d0ecf",
       "version_major": 2,
       "version_minor": 0
      },
      "text/plain": [
       "HBox(children=(HTML(value=''), FloatProgress(value=0.0, max=421.0), HTML(value='')))"
      ]
     },
     "metadata": {},
     "output_type": "display_data"
    },
    {
     "name": "stdout",
     "output_type": "stream",
     "text": [
      "\n"
     ]
    }
   ],
   "source": [
    "texts = get_texts(links)"
   ]
  },
  {
   "cell_type": "code",
   "execution_count": 9,
   "metadata": {},
   "outputs": [
    {
     "data": {
      "text/plain": [
       "133"
      ]
     },
     "execution_count": 9,
     "metadata": {},
     "output_type": "execute_result"
    }
   ],
   "source": [
    "len(texts)"
   ]
  },
  {
   "cell_type": "markdown",
   "metadata": {},
   "source": [
    "Полученные данные записываем в датафрейм, а заодно сохраняем в tsv-файл."
   ]
  },
  {
   "cell_type": "code",
   "execution_count": 10,
   "metadata": {},
   "outputs": [],
   "source": [
    "column_names = ['link', 'post_id', 'author', 'title', 'text']"
   ]
  },
  {
   "cell_type": "code",
   "execution_count": 11,
   "metadata": {},
   "outputs": [
    {
     "data": {
      "text/html": [
       "<div>\n",
       "<style scoped>\n",
       "    .dataframe tbody tr th:only-of-type {\n",
       "        vertical-align: middle;\n",
       "    }\n",
       "\n",
       "    .dataframe tbody tr th {\n",
       "        vertical-align: top;\n",
       "    }\n",
       "\n",
       "    .dataframe thead th {\n",
       "        text-align: right;\n",
       "    }\n",
       "</style>\n",
       "<table border=\"1\" class=\"dataframe\">\n",
       "  <thead>\n",
       "    <tr style=\"text-align: right;\">\n",
       "      <th></th>\n",
       "      <th>link</th>\n",
       "      <th>post_id</th>\n",
       "      <th>author</th>\n",
       "      <th>title</th>\n",
       "      <th>text</th>\n",
       "    </tr>\n",
       "  </thead>\n",
       "  <tbody>\n",
       "    <tr>\n",
       "      <td>0</td>\n",
       "      <td>https://minnskriget.diary.ru/p220050852.htm</td>\n",
       "      <td>220050852</td>\n",
       "      <td>Alexi Kivilaakso</td>\n",
       "      <td></td>\n",
       "      <td>Ну снова здорово!!!! Снова просыпаешься, идешь...</td>\n",
       "    </tr>\n",
       "    <tr>\n",
       "      <td>1</td>\n",
       "      <td>https://liss-rin.diary.ru/p220050837_nablyuden...</td>\n",
       "      <td>220050837</td>\n",
       "      <td>все записи пользователя в сообществе\\nБратья М...</td>\n",
       "      <td>Наблюдения.</td>\n",
       "      <td>Т.н. \"вспышка\" заболевания связана с нескольки...</td>\n",
       "    </tr>\n",
       "    <tr>\n",
       "      <td>2</td>\n",
       "      <td>https://vsevse-ru.diary.ru/p220050835_grushevy...</td>\n",
       "      <td>epigraph</td>\n",
       "      <td>все записи пользователя в сообществе\\nvsevse.ru</td>\n",
       "      <td>Грушевый салат с рукколой и овечьим сыром</td>\n",
       "      <td>Грушевый салат с рукколой и овечьим сыром\\nЦик...</td>\n",
       "    </tr>\n",
       "    <tr>\n",
       "      <td>3</td>\n",
       "      <td>https://freezone-3.diary.ru/p220050833.htm</td>\n",
       "      <td>220050833</td>\n",
       "      <td>Дина_Мит</td>\n",
       "      <td></td>\n",
       "      <td>Сижу и мысленно хвалю и глажу себя по головке ...</td>\n",
       "    </tr>\n",
       "    <tr>\n",
       "      <td>4</td>\n",
       "      <td>https://avelis.diary.ru/p220050831.htm</td>\n",
       "      <td>220050831</td>\n",
       "      <td>Avelis</td>\n",
       "      <td></td>\n",
       "      <td>в статье на висиру все так просто и понятно, н...</td>\n",
       "    </tr>\n",
       "    <tr>\n",
       "      <td>...</td>\n",
       "      <td>...</td>\n",
       "      <td>...</td>\n",
       "      <td>...</td>\n",
       "      <td>...</td>\n",
       "      <td>...</td>\n",
       "    </tr>\n",
       "    <tr>\n",
       "      <td>128</td>\n",
       "      <td>https://mizeri.diary.ru/p220048990_zapishu-na-...</td>\n",
       "      <td>220048990</td>\n",
       "      <td>Mizerikord</td>\n",
       "      <td>запишу на память.</td>\n",
       "      <td>Вот чем полезны бывают дайры. Полезла в \"прошл...</td>\n",
       "    </tr>\n",
       "    <tr>\n",
       "      <td>129</td>\n",
       "      <td>https://ladojka.diary.ru/p220048976.htm</td>\n",
       "      <td>220048976</td>\n",
       "      <td>Nagi Taicho</td>\n",
       "      <td></td>\n",
       "      <td>Наткнулся на этот твит, сижу смеюсь. Это я - я...</td>\n",
       "    </tr>\n",
       "    <tr>\n",
       "      <td>130</td>\n",
       "      <td>https://inaja-line.diary.ru/p220048960_kosmeto...</td>\n",
       "      <td>epigraph</td>\n",
       "      <td>gavrusssha</td>\n",
       "      <td>косметос</td>\n",
       "      <td>я еще немного попизжу, отчасти для собственной...</td>\n",
       "    </tr>\n",
       "    <tr>\n",
       "      <td>131</td>\n",
       "      <td>https://art-blog.diary.ru/p220048935.htm</td>\n",
       "      <td>220048935</td>\n",
       "      <td>Никипенок</td>\n",
       "      <td></td>\n",
       "      <td>Продажи-пост!\\nУ нас наконец-то готовы хэллоуи...</td>\n",
       "    </tr>\n",
       "    <tr>\n",
       "      <td>132</td>\n",
       "      <td>https://kamishhh.diary.ru/p220048933_palatka.htm</td>\n",
       "      <td>220048933</td>\n",
       "      <td>Камышь</td>\n",
       "      <td>Палатка.</td>\n",
       "      <td>Кошачья палатка (типа того), которую мы исполь...</td>\n",
       "    </tr>\n",
       "  </tbody>\n",
       "</table>\n",
       "<p>133 rows × 5 columns</p>\n",
       "</div>"
      ],
      "text/plain": [
       "                                                  link    post_id  \\\n",
       "0          https://minnskriget.diary.ru/p220050852.htm  220050852   \n",
       "1    https://liss-rin.diary.ru/p220050837_nablyuden...  220050837   \n",
       "2    https://vsevse-ru.diary.ru/p220050835_grushevy...   epigraph   \n",
       "3           https://freezone-3.diary.ru/p220050833.htm  220050833   \n",
       "4               https://avelis.diary.ru/p220050831.htm  220050831   \n",
       "..                                                 ...        ...   \n",
       "128  https://mizeri.diary.ru/p220048990_zapishu-na-...  220048990   \n",
       "129            https://ladojka.diary.ru/p220048976.htm  220048976   \n",
       "130  https://inaja-line.diary.ru/p220048960_kosmeto...   epigraph   \n",
       "131           https://art-blog.diary.ru/p220048935.htm  220048935   \n",
       "132   https://kamishhh.diary.ru/p220048933_palatka.htm  220048933   \n",
       "\n",
       "                                                author  \\\n",
       "0                                     Alexi Kivilaakso   \n",
       "1    все записи пользователя в сообществе\\nБратья М...   \n",
       "2      все записи пользователя в сообществе\\nvsevse.ru   \n",
       "3                                             Дина_Мит   \n",
       "4                                               Avelis   \n",
       "..                                                 ...   \n",
       "128                                         Mizerikord   \n",
       "129                                        Nagi Taicho   \n",
       "130                                         gavrusssha   \n",
       "131                                          Никипенок   \n",
       "132                                             Камышь   \n",
       "\n",
       "                                         title  \\\n",
       "0                                                \n",
       "1                                  Наблюдения.   \n",
       "2    Грушевый салат с рукколой и овечьим сыром   \n",
       "3                                                \n",
       "4                                                \n",
       "..                                         ...   \n",
       "128                          запишу на память.   \n",
       "129                                              \n",
       "130                                   косметос   \n",
       "131                                              \n",
       "132                                   Палатка.   \n",
       "\n",
       "                                                  text  \n",
       "0    Ну снова здорово!!!! Снова просыпаешься, идешь...  \n",
       "1    Т.н. \"вспышка\" заболевания связана с нескольки...  \n",
       "2    Грушевый салат с рукколой и овечьим сыром\\nЦик...  \n",
       "3    Сижу и мысленно хвалю и глажу себя по головке ...  \n",
       "4    в статье на висиру все так просто и понятно, н...  \n",
       "..                                                 ...  \n",
       "128  Вот чем полезны бывают дайры. Полезла в \"прошл...  \n",
       "129  Наткнулся на этот твит, сижу смеюсь. Это я - я...  \n",
       "130  я еще немного попизжу, отчасти для собственной...  \n",
       "131  Продажи-пост!\\nУ нас наконец-то готовы хэллоуи...  \n",
       "132  Кошачья палатка (типа того), которую мы исполь...  \n",
       "\n",
       "[133 rows x 5 columns]"
      ]
     },
     "execution_count": 11,
     "metadata": {},
     "output_type": "execute_result"
    }
   ],
   "source": [
    "df = pd.DataFrame(texts, columns=column_names)\n",
    "df"
   ]
  },
  {
   "cell_type": "code",
   "execution_count": 12,
   "metadata": {},
   "outputs": [],
   "source": [
    "df.to_csv('texts.tsv', sep='\\t', index=False)"
   ]
  },
  {
   "cell_type": "markdown",
   "metadata": {},
   "source": [
    "Не забываем выйти из сессии:"
   ]
  },
  {
   "cell_type": "code",
   "execution_count": 13,
   "metadata": {},
   "outputs": [],
   "source": [
    "driver.quit()"
   ]
  },
  {
   "cell_type": "markdown",
   "metadata": {},
   "source": [
    "## Шаг 2: морфологическая обработка\n",
    "Считываем файл с текстами и информацией о них в новый датафрейм, тексты записываем в список texts для обработки."
   ]
  },
  {
   "cell_type": "code",
   "execution_count": 14,
   "metadata": {},
   "outputs": [],
   "source": [
    "df2 = pd.read_csv('texts.tsv', sep='\\t')\n",
    "texts = list(df2['text'])"
   ]
  },
  {
   "cell_type": "markdown",
   "metadata": {},
   "source": [
    "Mystem был выбран из-за его точности, его консольный вариант - из-за скорости работы. Способ ниже неоптимален с точки зрения времени, т.к. распарсить целый текст было бы быстрее, но тогда возникают сложности однозначного разделения текстов, а это принципиальный для создания корпуса момент. Таким образом, мы решили пожертвовать скоростью ради точности."
   ]
  },
  {
   "cell_type": "code",
   "execution_count": 15,
   "metadata": {},
   "outputs": [
    {
     "name": "stderr",
     "output_type": "stream",
     "text": [
      "10:80: E501 line too long (82 > 79 characters)\n"
     ]
    }
   ],
   "source": [
    "def parse_with_mystem(texts):\n",
    "    parsed_texts = []\n",
    "    for text in tqdm(texts):\n",
    "        sents = sent_tokenize(text)\n",
    "        parsed_sents = []\n",
    "        for sent in sents:\n",
    "            with open('raw_text.txt', 'w', encoding='utf-8') as f:\n",
    "                f.write(sent)\n",
    "            os.system(\n",
    "                r'.\\mystem.exe -i -d --format json raw_text.txt parsed_text.json')\n",
    "            json_list = []\n",
    "            with open('parsed_text.json', encoding='utf-8') as f:\n",
    "                for line in f.readlines():\n",
    "                    json_list.append(json.loads(line))\n",
    "            parsed_sents.append(json_list)\n",
    "        parsed_texts.append(parsed_sents)\n",
    "    return parsed_texts"
   ]
  },
  {
   "cell_type": "code",
   "execution_count": 16,
   "metadata": {},
   "outputs": [
    {
     "data": {
      "application/vnd.jupyter.widget-view+json": {
       "model_id": "9cedef4b95084f07a85b012634b0b58c",
       "version_major": 2,
       "version_minor": 0
      },
      "text/plain": [
       "HBox(children=(HTML(value=''), FloatProgress(value=0.0, max=133.0), HTML(value='')))"
      ]
     },
     "metadata": {},
     "output_type": "display_data"
    },
    {
     "name": "stdout",
     "output_type": "stream",
     "text": [
      "\n"
     ]
    }
   ],
   "source": [
    "parsed_texts = parse_with_mystem(texts)"
   ]
  },
  {
   "cell_type": "markdown",
   "metadata": {},
   "source": [
    "Размеченные тексты нужно преобразовать в удобный для поиска формат, в т.ч. приведя теги в более читаемый вид:"
   ]
  },
  {
   "cell_type": "code",
   "execution_count": 17,
   "metadata": {},
   "outputs": [],
   "source": [
    "rule = {\n",
    "    'S': 'NOUN',\n",
    "    'A': 'ADJ',\n",
    "    'V': 'VERB',\n",
    "    'ADVPRO': 'ADV',\n",
    "    'PR': 'PREP',\n",
    "    'PART': 'PRCL',\n",
    "    'APRO': 'PRON',\n",
    "    'SPRO': 'PRON',\n",
    "}"
   ]
  },
  {
   "cell_type": "code",
   "execution_count": 18,
   "metadata": {},
   "outputs": [],
   "source": [
    "def unify(tag):\n",
    "    if tag in rule:\n",
    "        return rule[tag]\n",
    "    else:\n",
    "        return tag"
   ]
  },
  {
   "cell_type": "markdown",
   "metadata": {},
   "source": [
    "В нашем датафрейме отдельно будут храниться тексты, состоящие из слов с их разборами, и тексты, состоящие из предложений, в которых все слова также содержат информацию о разборе. Каждый текст сначала токенизируем с помощью NLTK, а затем обрабатываем по предложению. Это позволяет установить однозначное соответствие между предложением полного текста и разбором этого предложения, хотя с точки зрения скорости неоптимально. Мы решили воспользоваться этим способом, поскольку пользователя это никак не затрагивает: его запросы обрабатываются иначе и поиск работает быстро."
   ]
  },
  {
   "cell_type": "code",
   "execution_count": 19,
   "metadata": {},
   "outputs": [],
   "source": [
    "def get_word_info(texts):\n",
    "    tagged_texts = []\n",
    "    tagged_sent_texts = []\n",
    "    for text in parsed_texts:\n",
    "        parsed_text = []\n",
    "        parsed_sents = []\n",
    "        for sent in text:\n",
    "            parsed_sent = []\n",
    "            full_sent = []\n",
    "            for part in sent:\n",
    "                full_sent.extend(part)\n",
    "            for word in full_sent:\n",
    "                if word['analysis']:  # может быть пустое\n",
    "                    form = word['text']\n",
    "                    grammar = word['analysis'][0]['gr']\n",
    "                    pos = unify(grammar.split('=')[0].split(',')[0])\n",
    "                    lemma = word['analysis'][0]['lex']\n",
    "                    parsed_word = (form, lemma, pos)\n",
    "                    parsed_sent.append(parsed_word)\n",
    "                    parsed_text.append(parsed_word)\n",
    "            # на этом этапе разрешаем пустые предложения\n",
    "            parsed_sents.append(parsed_sent)\n",
    "        tagged_texts.append(parsed_text)\n",
    "        tagged_sent_texts.append(parsed_sents)\n",
    "    return tagged_texts, tagged_sent_texts"
   ]
  },
  {
   "cell_type": "code",
   "execution_count": 20,
   "metadata": {},
   "outputs": [],
   "source": [
    "tagged_texts, tagged_sent_texts = get_word_info(parsed_texts)"
   ]
  },
  {
   "cell_type": "markdown",
   "metadata": {},
   "source": [
    "Теперь нужно разбить тексты на предложения. Поскольку часть предложений Mystem возвращает пустыми (например, если они содержат только цифры), мы сравниваем кол-во предложений сырого и обработанного текстов и удаляем по индексу те предложения необработанного текста, для который Mystem не сделал разбора."
   ]
  },
  {
   "cell_type": "code",
   "execution_count": 21,
   "metadata": {},
   "outputs": [],
   "source": [
    "sent_texts = [sent_tokenize(t) for t in texts]"
   ]
  },
  {
   "cell_type": "code",
   "execution_count": 22,
   "metadata": {},
   "outputs": [],
   "source": [
    "def get_clean_sents(sent_texts, tagged_sent_texts):\n",
    "    clean_sent_texts = []\n",
    "    clean_tagged_sents = []\n",
    "    for n, text in enumerate(tagged_sent_texts):\n",
    "        text_sts = []\n",
    "        tagged_sts = []\n",
    "        for i, sent in enumerate(text):\n",
    "            if sent:\n",
    "                tagged_sts.append(sent)\n",
    "                text_sts.append(sent_texts[n][i])\n",
    "        clean_sent_texts.append(text_sts)\n",
    "        clean_tagged_sents.append(tagged_sts)\n",
    "    return clean_sent_texts, clean_tagged_sents"
   ]
  },
  {
   "cell_type": "code",
   "execution_count": 23,
   "metadata": {},
   "outputs": [],
   "source": [
    "clean_sent_texts, clean_tagged_sents = get_clean_sents(\n",
    "    sent_texts, tagged_sent_texts)"
   ]
  },
  {
   "cell_type": "markdown",
   "metadata": {},
   "source": [
    "Наконец, запишем данные в датафрейм:"
   ]
  },
  {
   "cell_type": "code",
   "execution_count": 24,
   "metadata": {},
   "outputs": [
    {
     "data": {
      "text/html": [
       "<div>\n",
       "<style scoped>\n",
       "    .dataframe tbody tr th:only-of-type {\n",
       "        vertical-align: middle;\n",
       "    }\n",
       "\n",
       "    .dataframe tbody tr th {\n",
       "        vertical-align: top;\n",
       "    }\n",
       "\n",
       "    .dataframe thead th {\n",
       "        text-align: right;\n",
       "    }\n",
       "</style>\n",
       "<table border=\"1\" class=\"dataframe\">\n",
       "  <thead>\n",
       "    <tr style=\"text-align: right;\">\n",
       "      <th></th>\n",
       "      <th>link</th>\n",
       "      <th>post_id</th>\n",
       "      <th>author</th>\n",
       "      <th>title</th>\n",
       "      <th>text</th>\n",
       "      <th>sentences</th>\n",
       "      <th>parsed_text</th>\n",
       "      <th>sent_text</th>\n",
       "    </tr>\n",
       "  </thead>\n",
       "  <tbody>\n",
       "    <tr>\n",
       "      <td>0</td>\n",
       "      <td>https://minnskriget.diary.ru/p220050852.htm</td>\n",
       "      <td>220050852</td>\n",
       "      <td>Alexi Kivilaakso</td>\n",
       "      <td>NaN</td>\n",
       "      <td>Ну снова здорово!!!! Снова просыпаешься, идешь...</td>\n",
       "      <td>[Ну снова здорово!!!!, Снова просыпаешься, иде...</td>\n",
       "      <td>[(Ну, ну, PRCL), (снова, снова, ADV), (здорово...</td>\n",
       "      <td>[[(Ну, ну, PRCL), (снова, снова, ADV), (здоров...</td>\n",
       "    </tr>\n",
       "    <tr>\n",
       "      <td>1</td>\n",
       "      <td>https://liss-rin.diary.ru/p220050837_nablyuden...</td>\n",
       "      <td>220050837</td>\n",
       "      <td>все записи пользователя в сообществе\\nБратья М...</td>\n",
       "      <td>Наблюдения.</td>\n",
       "      <td>Т.н. \"вспышка\" заболевания связана с нескольки...</td>\n",
       "      <td>[Т.н., \"вспышка\" заболевания связана с несколь...</td>\n",
       "      <td>[(Т, т, NOUN), (н, н, NOUN), (вспышка, вспышка...</td>\n",
       "      <td>[[(Т, т, NOUN), (н, н, NOUN)], [(вспышка, вспы...</td>\n",
       "    </tr>\n",
       "    <tr>\n",
       "      <td>2</td>\n",
       "      <td>https://vsevse-ru.diary.ru/p220050835_grushevy...</td>\n",
       "      <td>epigraph</td>\n",
       "      <td>все записи пользователя в сообществе\\nvsevse.ru</td>\n",
       "      <td>Грушевый салат с рукколой и овечьим сыром</td>\n",
       "      <td>Грушевый салат с рукколой и овечьим сыром\\nЦик...</td>\n",
       "      <td>[Грушевый салат с рукколой и овечьим сыром\\nЦи...</td>\n",
       "      <td>[(Грушевый, грушевый, ADJ), (салат, салат, NOU...</td>\n",
       "      <td>[[(Грушевый, грушевый, ADJ), (салат, салат, NO...</td>\n",
       "    </tr>\n",
       "    <tr>\n",
       "      <td>3</td>\n",
       "      <td>https://freezone-3.diary.ru/p220050833.htm</td>\n",
       "      <td>220050833</td>\n",
       "      <td>Дина_Мит</td>\n",
       "      <td>NaN</td>\n",
       "      <td>Сижу и мысленно хвалю и глажу себя по головке ...</td>\n",
       "      <td>[Сижу и мысленно хвалю и глажу себя по головке...</td>\n",
       "      <td>[(Сижу, сидеть, VERB), (и, и, CONJ), (мысленно...</td>\n",
       "      <td>[[(Сижу, сидеть, VERB), (и, и, CONJ), (мысленн...</td>\n",
       "    </tr>\n",
       "    <tr>\n",
       "      <td>4</td>\n",
       "      <td>https://avelis.diary.ru/p220050831.htm</td>\n",
       "      <td>220050831</td>\n",
       "      <td>Avelis</td>\n",
       "      <td>NaN</td>\n",
       "      <td>в статье на висиру все так просто и понятно, н...</td>\n",
       "      <td>[в статье на висиру все так просто и понятно, ...</td>\n",
       "      <td>[(в, в, PREP), (статье, статья, NOUN), (на, на...</td>\n",
       "      <td>[[(в, в, PREP), (статье, статья, NOUN), (на, н...</td>\n",
       "    </tr>\n",
       "    <tr>\n",
       "      <td>...</td>\n",
       "      <td>...</td>\n",
       "      <td>...</td>\n",
       "      <td>...</td>\n",
       "      <td>...</td>\n",
       "      <td>...</td>\n",
       "      <td>...</td>\n",
       "      <td>...</td>\n",
       "      <td>...</td>\n",
       "    </tr>\n",
       "    <tr>\n",
       "      <td>128</td>\n",
       "      <td>https://mizeri.diary.ru/p220048990_zapishu-na-...</td>\n",
       "      <td>220048990</td>\n",
       "      <td>Mizerikord</td>\n",
       "      <td>запишу на память.</td>\n",
       "      <td>Вот чем полезны бывают дайры. Полезла в \"прошл...</td>\n",
       "      <td>[Вот чем полезны бывают дайры., Полезла в \"про...</td>\n",
       "      <td>[(Вот, вот, PRCL), (чем, что, PRON), (полезны,...</td>\n",
       "      <td>[[(Вот, вот, PRCL), (чем, что, PRON), (полезны...</td>\n",
       "    </tr>\n",
       "    <tr>\n",
       "      <td>129</td>\n",
       "      <td>https://ladojka.diary.ru/p220048976.htm</td>\n",
       "      <td>220048976</td>\n",
       "      <td>Nagi Taicho</td>\n",
       "      <td>NaN</td>\n",
       "      <td>Наткнулся на этот твит, сижу смеюсь. Это я - я...</td>\n",
       "      <td>[Наткнулся на этот твит, сижу смеюсь., Это я -...</td>\n",
       "      <td>[(Наткнулся, наткнуться, VERB), (на, на, PREP)...</td>\n",
       "      <td>[[(Наткнулся, наткнуться, VERB), (на, на, PREP...</td>\n",
       "    </tr>\n",
       "    <tr>\n",
       "      <td>130</td>\n",
       "      <td>https://inaja-line.diary.ru/p220048960_kosmeto...</td>\n",
       "      <td>epigraph</td>\n",
       "      <td>gavrusssha</td>\n",
       "      <td>косметос</td>\n",
       "      <td>я еще немного попизжу, отчасти для собственной...</td>\n",
       "      <td>[я еще немного попизжу, отчасти для собственно...</td>\n",
       "      <td>[(я, я, PRON), (еще, еще, ADV), (немного, немн...</td>\n",
       "      <td>[[(я, я, PRON), (еще, еще, ADV), (немного, нем...</td>\n",
       "    </tr>\n",
       "    <tr>\n",
       "      <td>131</td>\n",
       "      <td>https://art-blog.diary.ru/p220048935.htm</td>\n",
       "      <td>220048935</td>\n",
       "      <td>Никипенок</td>\n",
       "      <td>NaN</td>\n",
       "      <td>Продажи-пост!\\nУ нас наконец-то готовы хэллоуи...</td>\n",
       "      <td>[Продажи-пост!, У нас наконец-то готовы хэллоу...</td>\n",
       "      <td>[(Продажи, продажа, NOUN), (пост, пост, NOUN),...</td>\n",
       "      <td>[[(Продажи, продажа, NOUN), (пост, пост, NOUN)...</td>\n",
       "    </tr>\n",
       "    <tr>\n",
       "      <td>132</td>\n",
       "      <td>https://kamishhh.diary.ru/p220048933_palatka.htm</td>\n",
       "      <td>220048933</td>\n",
       "      <td>Камышь</td>\n",
       "      <td>Палатка.</td>\n",
       "      <td>Кошачья палатка (типа того), которую мы исполь...</td>\n",
       "      <td>[Кошачья палатка (типа того), которую мы испол...</td>\n",
       "      <td>[(Кошачья, кошачий, ADJ), (палатка, палатка, N...</td>\n",
       "      <td>[[(Кошачья, кошачий, ADJ), (палатка, палатка, ...</td>\n",
       "    </tr>\n",
       "  </tbody>\n",
       "</table>\n",
       "<p>133 rows × 8 columns</p>\n",
       "</div>"
      ],
      "text/plain": [
       "                                                  link    post_id  \\\n",
       "0          https://minnskriget.diary.ru/p220050852.htm  220050852   \n",
       "1    https://liss-rin.diary.ru/p220050837_nablyuden...  220050837   \n",
       "2    https://vsevse-ru.diary.ru/p220050835_grushevy...   epigraph   \n",
       "3           https://freezone-3.diary.ru/p220050833.htm  220050833   \n",
       "4               https://avelis.diary.ru/p220050831.htm  220050831   \n",
       "..                                                 ...        ...   \n",
       "128  https://mizeri.diary.ru/p220048990_zapishu-na-...  220048990   \n",
       "129            https://ladojka.diary.ru/p220048976.htm  220048976   \n",
       "130  https://inaja-line.diary.ru/p220048960_kosmeto...   epigraph   \n",
       "131           https://art-blog.diary.ru/p220048935.htm  220048935   \n",
       "132   https://kamishhh.diary.ru/p220048933_palatka.htm  220048933   \n",
       "\n",
       "                                                author  \\\n",
       "0                                     Alexi Kivilaakso   \n",
       "1    все записи пользователя в сообществе\\nБратья М...   \n",
       "2      все записи пользователя в сообществе\\nvsevse.ru   \n",
       "3                                             Дина_Мит   \n",
       "4                                               Avelis   \n",
       "..                                                 ...   \n",
       "128                                         Mizerikord   \n",
       "129                                        Nagi Taicho   \n",
       "130                                         gavrusssha   \n",
       "131                                          Никипенок   \n",
       "132                                             Камышь   \n",
       "\n",
       "                                         title  \\\n",
       "0                                          NaN   \n",
       "1                                  Наблюдения.   \n",
       "2    Грушевый салат с рукколой и овечьим сыром   \n",
       "3                                          NaN   \n",
       "4                                          NaN   \n",
       "..                                         ...   \n",
       "128                          запишу на память.   \n",
       "129                                        NaN   \n",
       "130                                   косметос   \n",
       "131                                        NaN   \n",
       "132                                   Палатка.   \n",
       "\n",
       "                                                  text  \\\n",
       "0    Ну снова здорово!!!! Снова просыпаешься, идешь...   \n",
       "1    Т.н. \"вспышка\" заболевания связана с нескольки...   \n",
       "2    Грушевый салат с рукколой и овечьим сыром\\nЦик...   \n",
       "3    Сижу и мысленно хвалю и глажу себя по головке ...   \n",
       "4    в статье на висиру все так просто и понятно, н...   \n",
       "..                                                 ...   \n",
       "128  Вот чем полезны бывают дайры. Полезла в \"прошл...   \n",
       "129  Наткнулся на этот твит, сижу смеюсь. Это я - я...   \n",
       "130  я еще немного попизжу, отчасти для собственной...   \n",
       "131  Продажи-пост!\\nУ нас наконец-то готовы хэллоуи...   \n",
       "132  Кошачья палатка (типа того), которую мы исполь...   \n",
       "\n",
       "                                             sentences  \\\n",
       "0    [Ну снова здорово!!!!, Снова просыпаешься, иде...   \n",
       "1    [Т.н., \"вспышка\" заболевания связана с несколь...   \n",
       "2    [Грушевый салат с рукколой и овечьим сыром\\nЦи...   \n",
       "3    [Сижу и мысленно хвалю и глажу себя по головке...   \n",
       "4    [в статье на висиру все так просто и понятно, ...   \n",
       "..                                                 ...   \n",
       "128  [Вот чем полезны бывают дайры., Полезла в \"про...   \n",
       "129  [Наткнулся на этот твит, сижу смеюсь., Это я -...   \n",
       "130  [я еще немного попизжу, отчасти для собственно...   \n",
       "131  [Продажи-пост!, У нас наконец-то готовы хэллоу...   \n",
       "132  [Кошачья палатка (типа того), которую мы испол...   \n",
       "\n",
       "                                           parsed_text  \\\n",
       "0    [(Ну, ну, PRCL), (снова, снова, ADV), (здорово...   \n",
       "1    [(Т, т, NOUN), (н, н, NOUN), (вспышка, вспышка...   \n",
       "2    [(Грушевый, грушевый, ADJ), (салат, салат, NOU...   \n",
       "3    [(Сижу, сидеть, VERB), (и, и, CONJ), (мысленно...   \n",
       "4    [(в, в, PREP), (статье, статья, NOUN), (на, на...   \n",
       "..                                                 ...   \n",
       "128  [(Вот, вот, PRCL), (чем, что, PRON), (полезны,...   \n",
       "129  [(Наткнулся, наткнуться, VERB), (на, на, PREP)...   \n",
       "130  [(я, я, PRON), (еще, еще, ADV), (немного, немн...   \n",
       "131  [(Продажи, продажа, NOUN), (пост, пост, NOUN),...   \n",
       "132  [(Кошачья, кошачий, ADJ), (палатка, палатка, N...   \n",
       "\n",
       "                                             sent_text  \n",
       "0    [[(Ну, ну, PRCL), (снова, снова, ADV), (здоров...  \n",
       "1    [[(Т, т, NOUN), (н, н, NOUN)], [(вспышка, вспы...  \n",
       "2    [[(Грушевый, грушевый, ADJ), (салат, салат, NO...  \n",
       "3    [[(Сижу, сидеть, VERB), (и, и, CONJ), (мысленн...  \n",
       "4    [[(в, в, PREP), (статье, статья, NOUN), (на, н...  \n",
       "..                                                 ...  \n",
       "128  [[(Вот, вот, PRCL), (чем, что, PRON), (полезны...  \n",
       "129  [[(Наткнулся, наткнуться, VERB), (на, на, PREP...  \n",
       "130  [[(я, я, PRON), (еще, еще, ADV), (немного, нем...  \n",
       "131  [[(Продажи, продажа, NOUN), (пост, пост, NOUN)...  \n",
       "132  [[(Кошачья, кошачий, ADJ), (палатка, палатка, ...  \n",
       "\n",
       "[133 rows x 8 columns]"
      ]
     },
     "execution_count": 24,
     "metadata": {},
     "output_type": "execute_result"
    }
   ],
   "source": [
    "df2['sentences'] = clean_sent_texts\n",
    "df2['parsed_text'] = tagged_texts\n",
    "df2['sent_text'] = clean_tagged_sents\n",
    "df2"
   ]
  },
  {
   "cell_type": "markdown",
   "metadata": {},
   "source": [
    "Сохраняем наш недокорпус в новый файл .tsv."
   ]
  },
  {
   "cell_type": "code",
   "execution_count": 25,
   "metadata": {},
   "outputs": [],
   "source": [
    "df2.to_csv('corpus.tsv', sep='\\t', index=False)"
   ]
  }
 ],
 "metadata": {
  "kernelspec": {
   "display_name": "Python 3",
   "language": "python",
   "name": "python3"
  },
  "language_info": {
   "codemirror_mode": {
    "name": "ipython",
    "version": 3
   },
   "file_extension": ".py",
   "mimetype": "text/x-python",
   "name": "python",
   "nbconvert_exporter": "python",
   "pygments_lexer": "ipython3",
   "version": "3.7.3"
  }
 },
 "nbformat": 4,
 "nbformat_minor": 2
}
